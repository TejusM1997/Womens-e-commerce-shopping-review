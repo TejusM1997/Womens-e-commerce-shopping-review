{
 "cells": [
  {
   "cell_type": "code",
   "execution_count": 1,
   "metadata": {},
   "outputs": [],
   "source": [
    "import pandas as pd\n",
    "import numpy as np"
   ]
  },
  {
   "cell_type": "code",
   "execution_count": 2,
   "metadata": {},
   "outputs": [],
   "source": [
    "df=pd.read_csv(\"women_reviews_modified.csv\")"
   ]
  },
  {
   "cell_type": "markdown",
   "metadata": {},
   "source": [
    "### Data Cleaning"
   ]
  },
  {
   "cell_type": "code",
   "execution_count": 3,
   "metadata": {},
   "outputs": [
    {
     "data": {
      "text/plain": [
       "dresses           6145\n",
       "knits             4626\n",
       "blouses           2983\n",
       "sweaters          1380\n",
       "pants             1350\n",
       "jeans             1104\n",
       "fine_gauge        1059\n",
       "skirts             903\n",
       "jackets            683\n",
       "lounge             669\n",
       "swim               332\n",
       "outerwear          319\n",
       "shorts             304\n",
       "sleep              214\n",
       "legwear            158\n",
       "intimates          147\n",
       "layering           132\n",
       "trend              118\n",
       "chemises             1\n",
       "casual_bottoms       1\n",
       "Name: Class Name, dtype: int64"
      ]
     },
     "execution_count": 3,
     "metadata": {},
     "output_type": "execute_result"
    }
   ],
   "source": [
    "## removing white spaces\n",
    "df['Class Name']=df['Class Name'].str.lower()\n",
    "df['Class Name']=df['Class Name'].str.replace(\" \",\"_\")\n",
    "\n",
    "df['Class Name'].value_counts()"
   ]
  },
  {
   "cell_type": "code",
   "execution_count": 4,
   "metadata": {},
   "outputs": [
    {
     "data": {
      "text/plain": [
       "tops        10048\n",
       "dresses      6145\n",
       "bottoms      3662\n",
       "intimate     1653\n",
       "jackets      1002\n",
       "trend         118\n",
       "Name: Department Name, dtype: int64"
      ]
     },
     "execution_count": 4,
     "metadata": {},
     "output_type": "execute_result"
    }
   ],
   "source": [
    "df['Department Name']=df['Department Name'].str.lower()\n",
    "df['Department Name']=df['Department Name'].replace(\" \",\"_\")\n",
    "df['Department Name'].value_counts()"
   ]
  },
  {
   "cell_type": "code",
   "execution_count": 5,
   "metadata": {},
   "outputs": [
    {
     "data": {
      "text/plain": [
       "general           13365\n",
       "general_petite     7837\n",
       "initmates          1426\n",
       "Name: Division Name, dtype: int64"
      ]
     },
     "execution_count": 5,
     "metadata": {},
     "output_type": "execute_result"
    }
   ],
   "source": [
    "df[\"Division Name\"]=df[\"Division Name\"].str.lower()\n",
    "df[\"Division Name\"]=df[\"Division Name\"].str.replace(\" \",\"_\")\n",
    "df[\"Division Name\"].value_counts()"
   ]
  },
  {
   "cell_type": "code",
   "execution_count": 6,
   "metadata": {},
   "outputs": [],
   "source": [
    "## define a function to replace shorthand notations with long ones\n",
    "import re"
   ]
  },
  {
   "cell_type": "code",
   "execution_count": 7,
   "metadata": {},
   "outputs": [],
   "source": [
    "def decontracted(phrase):\n",
    "    # specific\n",
    "    phrase = re.sub(r\"won't\", \"will not\", phrase)\n",
    "    phrase = re.sub(r\"can\\'t\", \"can not\", phrase)\n",
    "\n",
    "    # general\n",
    "    phrase = re.sub(r\"n\\'t\", \" not\", phrase)\n",
    "    phrase = re.sub(r\"\\'re\", \" are\", phrase)\n",
    "    phrase = re.sub(r\"\\'s\", \" is\", phrase)\n",
    "    phrase = re.sub(r\"\\'d\", \" would\", phrase)\n",
    "    phrase = re.sub(r\"\\'ll\", \" will\", phrase)\n",
    "    phrase = re.sub(r\"\\'t\", \" not\", phrase)\n",
    "    phrase = re.sub(r\"\\'ve\", \" have\", phrase)\n",
    "    phrase = re.sub(r\"\\'m\", \" am\", phrase)\n",
    "    return phrase"
   ]
  },
  {
   "cell_type": "code",
   "execution_count": 9,
   "metadata": {},
   "outputs": [],
   "source": [
    "from nltk.corpus import stopwords"
   ]
  },
  {
   "cell_type": "code",
   "execution_count": 13,
   "metadata": {},
   "outputs": [],
   "source": [
    "## Elimnate stop words from Review Text\n",
    "stop = stopwords.words('english')\n",
    "df['Review Text']=df['Review Text'].apply(lambda x:' '.join( [item for item in x.split() if item not in (stop)]))"
   ]
  },
  {
   "cell_type": "code",
   "execution_count": 14,
   "metadata": {},
   "outputs": [
    {
     "data": {
      "text/plain": [
       "0            Absolutely wonderful - silky sexy comfortable\n",
       "1        Love dress! sooo pretty. happened find store, ...\n",
       "2        I high hopes dress really wanted work me. init...\n",
       "3        I love, love, love jumpsuit. fun, flirty, fabu...\n",
       "4        This shirt flattering due adjustable front tie...\n",
       "                               ...                        \n",
       "22623    I happy snag dress great price! easy slip flat...\n",
       "22624    It reminds maternity clothes. soft, stretchy, ...\n",
       "22625    This fit well, top see through. never would wo...\n",
       "22626    I bought dress wedding summer, cute. unfortuna...\n",
       "22627    This dress lovely platinum feminine fits perfe...\n",
       "Name: Review Text, Length: 22628, dtype: object"
      ]
     },
     "execution_count": 14,
     "metadata": {},
     "output_type": "execute_result"
    }
   ],
   "source": [
    "### After removing stopwords\n",
    "df['Review Text']"
   ]
  },
  {
   "cell_type": "code",
   "execution_count": 15,
   "metadata": {},
   "outputs": [],
   "source": [
    "from tqdm import tqdm\n",
    "def preprocess_text(text_data):\n",
    "    preprocessed_text = []\n",
    "    # tqdm is for printing the status bar\n",
    "    for sentence in tqdm(text_data):\n",
    "        sent = decontracted(sentence)\n",
    "        sent = sent.replace('\\\\r', ' ')\n",
    "        sent = sent.replace('\\\\n', ' ')\n",
    "        sent = sent.replace('\\\\\"', ' ')\n",
    "        sent = re.sub('[^A-Za-z0-9]+', ' ', sent)\n",
    "        # https://gist.github.com/sebleier/554280\n",
    "        preprocessed_text.append(sent.lower().strip())\n",
    "    return preprocessed_text"
   ]
  },
  {
   "cell_type": "code",
   "execution_count": 16,
   "metadata": {},
   "outputs": [
    {
     "name": "stderr",
     "output_type": "stream",
     "text": [
      "100%|██████████| 22628/22628 [00:00<00:00, 32897.45it/s]\n"
     ]
    }
   ],
   "source": [
    "preprocessed_review=preprocess_text(df[\"Review Text\"].values)"
   ]
  },
  {
   "cell_type": "code",
   "execution_count": 17,
   "metadata": {},
   "outputs": [],
   "source": [
    "df[\"Review Text\"]=preprocessed_review"
   ]
  },
  {
   "cell_type": "code",
   "execution_count": 18,
   "metadata": {},
   "outputs": [],
   "source": [
    "y=df[\"Recommended IND\"]\n",
    "x=df.drop([\"Recommended IND\"],axis=1)"
   ]
  },
  {
   "cell_type": "code",
   "execution_count": 19,
   "metadata": {},
   "outputs": [
    {
     "data": {
      "text/html": [
       "<div>\n",
       "<style scoped>\n",
       "    .dataframe tbody tr th:only-of-type {\n",
       "        vertical-align: middle;\n",
       "    }\n",
       "\n",
       "    .dataframe tbody tr th {\n",
       "        vertical-align: top;\n",
       "    }\n",
       "\n",
       "    .dataframe thead th {\n",
       "        text-align: right;\n",
       "    }\n",
       "</style>\n",
       "<table border=\"1\" class=\"dataframe\">\n",
       "  <thead>\n",
       "    <tr style=\"text-align: right;\">\n",
       "      <th></th>\n",
       "      <th>Unnamed: 0</th>\n",
       "      <th>Age</th>\n",
       "      <th>Review Text</th>\n",
       "      <th>Rating</th>\n",
       "      <th>Positive Feedback Count</th>\n",
       "      <th>Division Name</th>\n",
       "      <th>Department Name</th>\n",
       "      <th>Class Name</th>\n",
       "      <th>polarity</th>\n",
       "      <th>review_len</th>\n",
       "      <th>word_count</th>\n",
       "      <th>Avg_word_len</th>\n",
       "    </tr>\n",
       "  </thead>\n",
       "  <tbody>\n",
       "    <tr>\n",
       "      <th>0</th>\n",
       "      <td>0</td>\n",
       "      <td>33</td>\n",
       "      <td>absolutely wonderful silky sexy comfortable</td>\n",
       "      <td>4</td>\n",
       "      <td>0</td>\n",
       "      <td>initmates</td>\n",
       "      <td>intimate</td>\n",
       "      <td>intimates</td>\n",
       "      <td>0.633333</td>\n",
       "      <td>53</td>\n",
       "      <td>8</td>\n",
       "      <td>5.750000</td>\n",
       "    </tr>\n",
       "    <tr>\n",
       "      <th>1</th>\n",
       "      <td>1</td>\n",
       "      <td>34</td>\n",
       "      <td>love dress sooo pretty happened find store i a...</td>\n",
       "      <td>5</td>\n",
       "      <td>4</td>\n",
       "      <td>general</td>\n",
       "      <td>dresses</td>\n",
       "      <td>dresses</td>\n",
       "      <td>0.339583</td>\n",
       "      <td>303</td>\n",
       "      <td>62</td>\n",
       "      <td>3.822581</td>\n",
       "    </tr>\n",
       "    <tr>\n",
       "      <th>2</th>\n",
       "      <td>2</td>\n",
       "      <td>60</td>\n",
       "      <td>i high hopes dress really wanted work me initi...</td>\n",
       "      <td>3</td>\n",
       "      <td>0</td>\n",
       "      <td>general</td>\n",
       "      <td>dresses</td>\n",
       "      <td>dresses</td>\n",
       "      <td>0.073675</td>\n",
       "      <td>500</td>\n",
       "      <td>98</td>\n",
       "      <td>4.112245</td>\n",
       "    </tr>\n",
       "  </tbody>\n",
       "</table>\n",
       "</div>"
      ],
      "text/plain": [
       "   Unnamed: 0  Age                                        Review Text  Rating  \\\n",
       "0           0   33        absolutely wonderful silky sexy comfortable       4   \n",
       "1           1   34  love dress sooo pretty happened find store i a...       5   \n",
       "2           2   60  i high hopes dress really wanted work me initi...       3   \n",
       "\n",
       "   Positive Feedback Count Division Name Department Name Class Name  polarity  \\\n",
       "0                        0     initmates        intimate  intimates  0.633333   \n",
       "1                        4       general         dresses    dresses  0.339583   \n",
       "2                        0       general         dresses    dresses  0.073675   \n",
       "\n",
       "   review_len  word_count  Avg_word_len  \n",
       "0          53           8      5.750000  \n",
       "1         303          62      3.822581  \n",
       "2         500          98      4.112245  "
      ]
     },
     "execution_count": 19,
     "metadata": {},
     "output_type": "execute_result"
    }
   ],
   "source": [
    "x.head(3)"
   ]
  },
  {
   "cell_type": "code",
   "execution_count": 21,
   "metadata": {},
   "outputs": [],
   "source": [
    "x.drop('Unnamed: 0',axis=1,inplace=True)"
   ]
  },
  {
   "cell_type": "code",
   "execution_count": 28,
   "metadata": {},
   "outputs": [],
   "source": [
    "from sklearn.model_selection import train_test_split\n",
    "X_train,X_test,y_train,y_test=train_test_split(x,y,test_size=0.33,stratify=y, random_state =41)"
   ]
  },
  {
   "cell_type": "code",
   "execution_count": 23,
   "metadata": {},
   "outputs": [],
   "source": [
    "from sklearn.feature_extraction.text import CountVectorizer"
   ]
  },
  {
   "cell_type": "code",
   "execution_count": 29,
   "metadata": {},
   "outputs": [
    {
     "name": "stdout",
     "output_type": "stream",
     "text": [
      "after vectorization....\n",
      "(15160, 11988) (15160,)\n",
      "(7468, 11988) (7468,)\n"
     ]
    }
   ],
   "source": [
    "vec=CountVectorizer()\n",
    "vec.fit(X_train[\"Review Text\"].values)\n",
    "\n",
    "x_train_rev=vec.transform(X_train[\"Review Text\"].values)\n",
    "x_test_rev=vec.transform(X_test[\"Review Text\"].values)\n",
    "\n",
    "print(\"after vectorization....\")\n",
    "print(x_train_rev.shape,y_train.shape)\n",
    "print(x_test_rev.shape,y_test.shape)"
   ]
  },
  {
   "cell_type": "code",
   "execution_count": 30,
   "metadata": {},
   "outputs": [
    {
     "name": "stdout",
     "output_type": "stream",
     "text": [
      "after vectorization....\n",
      "(15160, 3) (15160,)\n",
      "(7468, 3) (7468,)\n"
     ]
    }
   ],
   "source": [
    "vec.fit(X_train[\"Division Name\"].values)\n",
    "\n",
    "x_train_div=vec.transform(X_train[\"Division Name\"].values)\n",
    "x_test_div=vec.transform(X_test[\"Division Name\"].values)\n",
    "\n",
    "print(\"after vectorization....\")\n",
    "print(x_train_div.shape,y_train.shape)\n",
    "print(x_test_div.shape,y_test.shape)\n"
   ]
  },
  {
   "cell_type": "code",
   "execution_count": 31,
   "metadata": {},
   "outputs": [
    {
     "name": "stdout",
     "output_type": "stream",
     "text": [
      "after vectorization....\n",
      "(15160, 6) (15160,)\n",
      "(7468, 6) (7468,)\n",
      "['bottoms', 'dresses', 'intimate', 'jackets', 'tops', 'trend']\n"
     ]
    }
   ],
   "source": [
    "vec.fit(X_train[\"Department Name\"].values)\n",
    "\n",
    "x_train_dep=vec.transform(X_train[\"Department Name\"].values)\n",
    "x_test_dep=vec.transform(X_test[\"Department Name\"].values)\n",
    "\n",
    "print(\"after vectorization....\")\n",
    "print(x_train_dep.shape,y_train.shape)\n",
    "print(x_test_dep.shape,y_test.shape)\n",
    "\n",
    "print(vec.get_feature_names())"
   ]
  },
  {
   "cell_type": "code",
   "execution_count": 33,
   "metadata": {},
   "outputs": [
    {
     "name": "stdout",
     "output_type": "stream",
     "text": [
      "after vectorization....\n",
      "(15160, 19) (15160,)\n",
      "(7468, 19) (7468,)\n",
      "['blouses', 'chemises', 'dresses', 'fine_gauge', 'intimates', 'jackets', 'jeans', 'knits', 'layering', 'legwear', 'lounge', 'outerwear', 'pants', 'shorts', 'skirts', 'sleep', 'sweaters', 'swim', 'trend']\n"
     ]
    }
   ],
   "source": [
    "vec.fit(X_train[\"Class Name\"].values)\n",
    "\n",
    "x_train_cls=vec.transform(X_train[\"Class Name\"].values)\n",
    "x_test_cls=vec.transform(X_test[\"Class Name\"].values)\n",
    "\n",
    "print(\"after vectorization....\")\n",
    "print(x_train_cls.shape,y_train.shape)\n",
    "print(x_test_cls.shape,y_test.shape)\n",
    "\n",
    "print(vec.get_feature_names())"
   ]
  },
  {
   "cell_type": "code",
   "execution_count": 34,
   "metadata": {},
   "outputs": [
    {
     "data": {
      "text/plain": [
       "13492    5\n",
       "7220     3\n",
       "3678     3\n",
       "22451    4\n",
       "3810     4\n",
       "        ..\n",
       "22122    2\n",
       "15809    3\n",
       "11016    5\n",
       "15502    4\n",
       "5110     3\n",
       "Name: Rating, Length: 15160, dtype: int64"
      ]
     },
     "execution_count": 34,
     "metadata": {},
     "output_type": "execute_result"
    }
   ],
   "source": [
    "X_train['Rating']"
   ]
  },
  {
   "cell_type": "code",
   "execution_count": 35,
   "metadata": {},
   "outputs": [],
   "source": [
    "x_train_rate=(np.array(X_train[\"Rating\"])).reshape((-1,1))\n",
    "x_test_rate=(np.array(X_test[\"Rating\"])).reshape((-1,1))\n"
   ]
  },
  {
   "cell_type": "code",
   "execution_count": 36,
   "metadata": {},
   "outputs": [],
   "source": [
    "## Normalize Age column\n",
    "from sklearn.preprocessing import Normalizer\n",
    "norm= Normalizer()\n",
    "\n",
    "norm.fit(X_train['Age'].values.reshape(1,-1))\n",
    "\n",
    "x_train_age=norm.transform(X_train[\"Age\"].values.reshape(1,-1))\n",
    "x_test_age=norm.transform(X_test[\"Age\"].values.reshape(1,-1))\n",
    "\n",
    "x_train_age=x_train_age.reshape(-1,1)\n",
    "x_test_age=x_test_age.reshape(-1,1)"
   ]
  },
  {
   "cell_type": "code",
   "execution_count": 37,
   "metadata": {},
   "outputs": [],
   "source": [
    "from scipy.sparse import hstack\n",
    "\n",
    "x_tr=hstack((x_train_rev,x_train_div,x_train_dep,x_train_cls,x_train_rate,x_train_age)).tocsr()\n",
    "x_te=hstack((x_test_rev,x_test_div,x_test_dep,x_test_cls,x_test_rate,x_test_age)).tocsr()"
   ]
  },
  {
   "cell_type": "code",
   "execution_count": 38,
   "metadata": {},
   "outputs": [
    {
     "name": "stdout",
     "output_type": "stream",
     "text": [
      "FINAL DATA MATRIX SHAPE IS ........\n",
      "(15160, 12018) (15160,)\n",
      "(7468, 12018) (7468,)\n"
     ]
    }
   ],
   "source": [
    "print(\"FINAL DATA MATRIX SHAPE IS ........\")\n",
    "print(x_tr.shape,y_train.shape)\n",
    "print(x_te.shape,y_test.shape)"
   ]
  },
  {
   "cell_type": "code",
   "execution_count": 39,
   "metadata": {},
   "outputs": [],
   "source": [
    "# below defined function imports classifier and data and returns class probabilities\n",
    "def batch_pred(clf,data):\n",
    "    y_data_pred=[]\n",
    "    tr_loop=data.shape[0]-data.shape[0]%1000\n",
    "    \n",
    "    for i in range(0,tr_loop,1000):\n",
    "        y_data_pred.extend(clf.predict_proba(data[i:i+1000])[:,1])\n",
    "        \n",
    "    if data.shape[0]%1000 !=0:\n",
    "        y_data_pred.extend(clf.predict_proba(data[tr_loop:])[:,1])\n",
    "    return y_data_pred"
   ]
  },
  {
   "cell_type": "code",
   "execution_count": 40,
   "metadata": {},
   "outputs": [],
   "source": [
    "import math\n",
    "import matplotlib.pyplot as plt\n",
    "from sklearn.naive_bayes import MultinomialNB\n",
    "from sklearn.metrics import roc_auc_score"
   ]
  },
  {
   "cell_type": "code",
   "execution_count": 42,
   "metadata": {},
   "outputs": [
    {
     "name": "stderr",
     "output_type": "stream",
     "text": [
      "100%|██████████| 9/9 [00:00<00:00, 29.04it/s]\n"
     ]
    },
    {
     "data": {
      "image/png": "[encoded data removed]",
      "text/plain": [
       "<Figure size 432x288 with 1 Axes>"
      ]
     },
     "metadata": {
      "needs_background": "light"
     },
     "output_type": "display_data"
    }
   ],
   "source": [
    "train_auc = []    \n",
    "alpha = [0.00001,0.0001,0.001,0.01,0.1,1,10,50,100]         #to find the best alpha value\n",
    "for i in tqdm(alpha):\n",
    "    neigh = MultinomialNB(alpha=i,class_prior=[0.5,0.5],fit_prior=False)\n",
    "    neigh.fit(x_tr, y_train)\n",
    "\n",
    "    y_train_pred = batch_pred(neigh, x_tr)    \n",
    "    train_auc.append(roc_auc_score(y_train,y_train_pred))\n",
    "    \n",
    "plt.plot(alpha, train_auc, label='Train AUC')        #plotting hyper_parameter v/s auc value plot....\n",
    "plt.xscale(\"log\")\n",
    "plt.scatter(alpha , train_auc, label='Train AUC points')\n",
    "\n",
    "plt.legend()\n",
    "plt.xlabel(\"log(alpha): hyperparameter\")\n",
    "plt.ylabel(\"AUC\")\n",
    "plt.title(\"hyperparameter v/s AUC plot to find BEST ALPHA\")\n",
    "plt.grid()\n",
    "plt.show()"
   ]
  },
  {
   "cell_type": "raw",
   "metadata": {},
   "source": [
    "Therfore the best alpha value shall be 10^0 which is 1"
   ]
  },
  {
   "cell_type": "code",
   "execution_count": 43,
   "metadata": {},
   "outputs": [
    {
     "data": {
      "image/png": "[encoded data removed]",
      "text/plain": [
       "<Figure size 432x288 with 1 Axes>"
      ]
     },
     "metadata": {
      "needs_background": "light"
     },
     "output_type": "display_data"
    }
   ],
   "source": [
    "# https://scikit-learn.org/stable/modules/generated/sklearn.metrics.roc_curve.html#sklearn.metrics.roc_curve\n",
    "from sklearn.metrics import roc_curve, auc\n",
    "\n",
    "\n",
    "clas = MultinomialNB(alpha=1,class_prior=[0.5,0.5],fit_prior=False)\n",
    "clas.fit(x_tr, y_train)\n",
    "\n",
    "\n",
    "y_train_pred = batch_pred(clas, x_tr)    \n",
    "y_test_pred = batch_pred(clas, x_te)\n",
    "\n",
    "# roc_auc_score(y_true, y_score) the 2nd parameter should be probability estimates of the positive class\n",
    "# not the predicted outputs\n",
    "train_fpr, train_tpr, tr_thresholds = roc_curve(y_train, y_train_pred)\n",
    "test_fpr, test_tpr, te_thresholds = roc_curve(y_test, y_test_pred)\n",
    "\n",
    "\n",
    "train_auc=auc(train_fpr, train_tpr)\n",
    "test_auc=auc(test_fpr, test_tpr)\n",
    "plt.plot(train_fpr, train_tpr, label=\"train AUC =\"+str(train_auc))\n",
    "plt.plot(test_fpr, test_tpr, label=\"test AUC =\"+str(test_auc))\n",
    "plt.legend()\n",
    "plt.xlabel(\"False positive rate\")\n",
    "plt.ylabel(\"True positive rate\")\n",
    "plt.title(\"FPR v/s TPR plot\")\n",
    "plt.grid()\n",
    "plt.show()"
   ]
  }
 ],
 "metadata": {
  "kernelspec": {
   "display_name": "Python 3",
   "language": "python",
   "name": "python3"
  },
  "language_info": {
   "codemirror_mode": {
    "name": "ipython",
    "version": 3
   },
   "file_extension": ".py",
   "mimetype": "text/x-python",
   "name": "python",
   "nbconvert_exporter": "python",
   "pygments_lexer": "ipython3",
   "version": "3.7.6"
  }
 },
 "nbformat": 4,
 "nbformat_minor": 4
}
